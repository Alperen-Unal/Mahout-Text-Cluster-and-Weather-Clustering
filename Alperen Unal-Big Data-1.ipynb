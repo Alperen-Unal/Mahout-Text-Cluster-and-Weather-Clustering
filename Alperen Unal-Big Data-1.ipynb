{
 "cells": [
  {
   "cell_type": "markdown",
   "id": "16727334",
   "metadata": {},
   "source": [
    "# BIG DATA ANALYSIS - COURSEWORK1"
   ]
  },
  {
   "cell_type": "markdown",
   "id": "80370b9a",
   "metadata": {},
   "source": [
    "## 1. Finding the descriptive statistics for temperature of each day of a given month for the year 2007"
   ]
  },
  {
   "cell_type": "markdown",
   "id": "0c5408e3",
   "metadata": {},
   "source": [
    "### 1.1 Data Acquisition"
   ]
  },
  {
   "cell_type": "markdown",
   "id": "e9207598",
   "metadata": {},
   "source": [
    "Firstly I downloaded the datasets from VLE and on my local terminal I wrote 'unzip.Datasets'. I chose '200707hourly.txt' dataset. In order to see the rows and columns in the dataset more clearly, I decided to convert the dataset from txt format to csv format."
   ]
  },
  {
   "cell_type": "code",
   "execution_count": 66,
   "id": "f67a5177",
   "metadata": {},
   "outputs": [],
   "source": [
    "import csv\n",
    "\n",
    "\n",
    "txt_file_path = '200707hourly.txt'\n",
    "csv_file_path = '200707hourly.csv'\n",
    "\n",
    "\n",
    "with open(txt_file_path, 'r') as txt_file, open(csv_file_path, 'w', newline='') as csv_file:\n",
    "\n",
    "    csv_writer = csv.writer(csv_file)\n",
    "    \n",
    "\n",
    "    for line in txt_file:\n",
    "        fields = line.strip().split('\\t')  # Adjust the split delimiter according to your txt file's structure\n",
    "        csv_writer.writerow(fields)"
   ]
  },
  {
   "cell_type": "markdown",
   "id": "4becf50b",
   "metadata": {},
   "source": [
    "After the txt to csv process, the dataset turned into a csv document consisting of just one column. I uploaded this csv dataset to my own PC and performed the following operations via Microsoft Excel and adjusted the rows and columns accordingly:\n",
    "* 1- Selecting the 'Data' tab on the ribbon,\n",
    "* 2- Selecting 'Tab to Columns'\n",
    "* 3- 'Delimited'\n",
    "* 4- Checking the box for 'Comma'\n",
    "After these names, I converted the data to csv format appropriately."
   ]
  },
  {
   "cell_type": "code",
   "execution_count": 3,
   "id": "f343a8b6",
   "metadata": {},
   "outputs": [],
   "source": [
    "import pandas as pd"
   ]
  },
  {
   "cell_type": "code",
   "execution_count": 4,
   "id": "e324c5ca",
   "metadata": {},
   "outputs": [
    {
     "name": "stderr",
     "output_type": "stream",
     "text": [
      "/var/folders/wl/n7pq_5rj1bz43l8jft3ps3q40000gp/T/ipykernel_6965/1873618796.py:1: DtypeWarning: Columns (16,21) have mixed types. Specify dtype option on import or set low_memory=False.\n",
      "  df = pd.read_csv(\"200707hourly.csv\")\n"
     ]
    }
   ],
   "source": [
    "df = pd.read_csv(\"200707hourly.csv\")"
   ]
  },
  {
   "cell_type": "code",
   "execution_count": 5,
   "id": "190f4b7b",
   "metadata": {},
   "outputs": [
    {
     "data": {
      "text/html": [
       "<div>\n",
       "<style scoped>\n",
       "    .dataframe tbody tr th:only-of-type {\n",
       "        vertical-align: middle;\n",
       "    }\n",
       "\n",
       "    .dataframe tbody tr th {\n",
       "        vertical-align: top;\n",
       "    }\n",
       "\n",
       "    .dataframe thead th {\n",
       "        text-align: right;\n",
       "    }\n",
       "</style>\n",
       "<table border=\"1\" class=\"dataframe\">\n",
       "  <thead>\n",
       "    <tr style=\"text-align: right;\">\n",
       "      <th></th>\n",
       "      <th>Wban Number</th>\n",
       "      <th>YearMonthDay</th>\n",
       "      <th>Time</th>\n",
       "      <th>Station Type</th>\n",
       "      <th>Maintenance Indicator</th>\n",
       "      <th>Sky Conditions</th>\n",
       "      <th>Visibility</th>\n",
       "      <th>Weather Type</th>\n",
       "      <th>Dry Bulb Temp</th>\n",
       "      <th>Dew Point Temp</th>\n",
       "      <th>...</th>\n",
       "      <th>Wind Speed (kt)</th>\n",
       "      <th>Wind Direction</th>\n",
       "      <th>Wind Char. Gusts (kt)</th>\n",
       "      <th>Val for Wind Char.</th>\n",
       "      <th>Station Pressure</th>\n",
       "      <th>Pressure Tendency</th>\n",
       "      <th>Sea Level Pressure</th>\n",
       "      <th>Record Type</th>\n",
       "      <th>Precip. Total</th>\n",
       "      <th>Unnamed: 21</th>\n",
       "    </tr>\n",
       "  </thead>\n",
       "  <tbody>\n",
       "    <tr>\n",
       "      <th>0</th>\n",
       "      <td>3011</td>\n",
       "      <td>20070701</td>\n",
       "      <td>50</td>\n",
       "      <td>AO2</td>\n",
       "      <td>-</td>\n",
       "      <td>CLR</td>\n",
       "      <td>10SM</td>\n",
       "      <td>-</td>\n",
       "      <td>57</td>\n",
       "      <td>18</td>\n",
       "      <td>...</td>\n",
       "      <td>3</td>\n",
       "      <td>130</td>\n",
       "      <td>-</td>\n",
       "      <td>0</td>\n",
       "      <td>30.45</td>\n",
       "      <td>-</td>\n",
       "      <td>-</td>\n",
       "      <td>AA</td>\n",
       "      <td>-</td>\n",
       "      <td>NaN</td>\n",
       "    </tr>\n",
       "    <tr>\n",
       "      <th>1</th>\n",
       "      <td>3011</td>\n",
       "      <td>20070701</td>\n",
       "      <td>150</td>\n",
       "      <td>AO2</td>\n",
       "      <td>-</td>\n",
       "      <td>CLR</td>\n",
       "      <td>10SM</td>\n",
       "      <td>-</td>\n",
       "      <td>55</td>\n",
       "      <td>18</td>\n",
       "      <td>...</td>\n",
       "      <td>3</td>\n",
       "      <td>150</td>\n",
       "      <td>-</td>\n",
       "      <td>0</td>\n",
       "      <td>30.45</td>\n",
       "      <td>-</td>\n",
       "      <td>-</td>\n",
       "      <td>AA</td>\n",
       "      <td>-</td>\n",
       "      <td>NaN</td>\n",
       "    </tr>\n",
       "    <tr>\n",
       "      <th>2</th>\n",
       "      <td>3011</td>\n",
       "      <td>20070701</td>\n",
       "      <td>250</td>\n",
       "      <td>AO2</td>\n",
       "      <td>-</td>\n",
       "      <td>CLR</td>\n",
       "      <td>10SM</td>\n",
       "      <td>-</td>\n",
       "      <td>54</td>\n",
       "      <td>16</td>\n",
       "      <td>...</td>\n",
       "      <td>6</td>\n",
       "      <td>140</td>\n",
       "      <td>-</td>\n",
       "      <td>0</td>\n",
       "      <td>30.44</td>\n",
       "      <td>-</td>\n",
       "      <td>-</td>\n",
       "      <td>AA</td>\n",
       "      <td>-</td>\n",
       "      <td>NaN</td>\n",
       "    </tr>\n",
       "    <tr>\n",
       "      <th>3</th>\n",
       "      <td>3011</td>\n",
       "      <td>20070701</td>\n",
       "      <td>350</td>\n",
       "      <td>AO2</td>\n",
       "      <td>-</td>\n",
       "      <td>CLR</td>\n",
       "      <td>10SM</td>\n",
       "      <td>-</td>\n",
       "      <td>54</td>\n",
       "      <td>14</td>\n",
       "      <td>...</td>\n",
       "      <td>4</td>\n",
       "      <td>130</td>\n",
       "      <td>-</td>\n",
       "      <td>0</td>\n",
       "      <td>30.45</td>\n",
       "      <td>-</td>\n",
       "      <td>-</td>\n",
       "      <td>AA</td>\n",
       "      <td>-</td>\n",
       "      <td>NaN</td>\n",
       "    </tr>\n",
       "    <tr>\n",
       "      <th>4</th>\n",
       "      <td>3011</td>\n",
       "      <td>20070701</td>\n",
       "      <td>450</td>\n",
       "      <td>AO2</td>\n",
       "      <td>-</td>\n",
       "      <td>CLR</td>\n",
       "      <td>10SM</td>\n",
       "      <td>-</td>\n",
       "      <td>54</td>\n",
       "      <td>14</td>\n",
       "      <td>...</td>\n",
       "      <td>4</td>\n",
       "      <td>140</td>\n",
       "      <td>-</td>\n",
       "      <td>0</td>\n",
       "      <td>30.46</td>\n",
       "      <td>-</td>\n",
       "      <td>-</td>\n",
       "      <td>AA</td>\n",
       "      <td>-</td>\n",
       "      <td>NaN</td>\n",
       "    </tr>\n",
       "    <tr>\n",
       "      <th>...</th>\n",
       "      <td>...</td>\n",
       "      <td>...</td>\n",
       "      <td>...</td>\n",
       "      <td>...</td>\n",
       "      <td>...</td>\n",
       "      <td>...</td>\n",
       "      <td>...</td>\n",
       "      <td>...</td>\n",
       "      <td>...</td>\n",
       "      <td>...</td>\n",
       "      <td>...</td>\n",
       "      <td>...</td>\n",
       "      <td>...</td>\n",
       "      <td>...</td>\n",
       "      <td>...</td>\n",
       "      <td>...</td>\n",
       "      <td>...</td>\n",
       "      <td>...</td>\n",
       "      <td>...</td>\n",
       "      <td>...</td>\n",
       "      <td>...</td>\n",
       "    </tr>\n",
       "    <tr>\n",
       "      <th>785801</th>\n",
       "      <td>96402</td>\n",
       "      <td>20070718</td>\n",
       "      <td>350</td>\n",
       "      <td>-</td>\n",
       "      <td>-</td>\n",
       "      <td>SCT040 BKN080 OVC110</td>\n",
       "      <td>10SM</td>\n",
       "      <td>-</td>\n",
       "      <td>-</td>\n",
       "      <td>-</td>\n",
       "      <td>...</td>\n",
       "      <td>0</td>\n",
       "      <td>0</td>\n",
       "      <td>-</td>\n",
       "      <td>0</td>\n",
       "      <td>29.8</td>\n",
       "      <td>-</td>\n",
       "      <td>-</td>\n",
       "      <td>AA</td>\n",
       "      <td>-</td>\n",
       "      <td>NaN</td>\n",
       "    </tr>\n",
       "    <tr>\n",
       "      <th>785802</th>\n",
       "      <td>96402</td>\n",
       "      <td>20070718</td>\n",
       "      <td>450</td>\n",
       "      <td>-</td>\n",
       "      <td>-</td>\n",
       "      <td>SCT040 BKN080 OVC110</td>\n",
       "      <td>10SM</td>\n",
       "      <td>-</td>\n",
       "      <td>-</td>\n",
       "      <td>-</td>\n",
       "      <td>...</td>\n",
       "      <td>0</td>\n",
       "      <td>0</td>\n",
       "      <td>-</td>\n",
       "      <td>0</td>\n",
       "      <td>29.79</td>\n",
       "      <td>-</td>\n",
       "      <td>-</td>\n",
       "      <td>AA</td>\n",
       "      <td>-</td>\n",
       "      <td>NaN</td>\n",
       "    </tr>\n",
       "    <tr>\n",
       "      <th>785803</th>\n",
       "      <td>96402</td>\n",
       "      <td>20070718</td>\n",
       "      <td>550</td>\n",
       "      <td>-</td>\n",
       "      <td>-</td>\n",
       "      <td>SCT040 BKN080 OVC110</td>\n",
       "      <td>10SM</td>\n",
       "      <td>-</td>\n",
       "      <td>-</td>\n",
       "      <td>-</td>\n",
       "      <td>...</td>\n",
       "      <td>0</td>\n",
       "      <td>0</td>\n",
       "      <td>-</td>\n",
       "      <td>0</td>\n",
       "      <td>29.79</td>\n",
       "      <td>-</td>\n",
       "      <td>-</td>\n",
       "      <td>AA</td>\n",
       "      <td>-</td>\n",
       "      <td>NaN</td>\n",
       "    </tr>\n",
       "    <tr>\n",
       "      <th>785804</th>\n",
       "      <td>96402</td>\n",
       "      <td>20070718</td>\n",
       "      <td>650</td>\n",
       "      <td>-</td>\n",
       "      <td>-</td>\n",
       "      <td>SCT040 BKN080 OVC110</td>\n",
       "      <td>10SM</td>\n",
       "      <td>-</td>\n",
       "      <td>-</td>\n",
       "      <td>-</td>\n",
       "      <td>...</td>\n",
       "      <td>0</td>\n",
       "      <td>0</td>\n",
       "      <td>-</td>\n",
       "      <td>0</td>\n",
       "      <td>29.77</td>\n",
       "      <td>-</td>\n",
       "      <td>-</td>\n",
       "      <td>AA</td>\n",
       "      <td>-</td>\n",
       "      <td>NaN</td>\n",
       "    </tr>\n",
       "    <tr>\n",
       "      <th>785805</th>\n",
       "      <td>96402</td>\n",
       "      <td>20070718</td>\n",
       "      <td>1250</td>\n",
       "      <td>-</td>\n",
       "      <td>-</td>\n",
       "      <td>SCT040 BKN080 OVC120</td>\n",
       "      <td>12SM</td>\n",
       "      <td>-</td>\n",
       "      <td>-</td>\n",
       "      <td>-</td>\n",
       "      <td>...</td>\n",
       "      <td>6</td>\n",
       "      <td>210</td>\n",
       "      <td>-</td>\n",
       "      <td>0</td>\n",
       "      <td>29.72</td>\n",
       "      <td>-</td>\n",
       "      <td>-</td>\n",
       "      <td>AA</td>\n",
       "      <td>-</td>\n",
       "      <td>NaN</td>\n",
       "    </tr>\n",
       "  </tbody>\n",
       "</table>\n",
       "<p>785806 rows × 22 columns</p>\n",
       "</div>"
      ],
      "text/plain": [
       "        Wban Number   YearMonthDay   Time  Station Type  \\\n",
       "0              3011       20070701     50          AO2    \n",
       "1              3011       20070701    150          AO2    \n",
       "2              3011       20070701    250          AO2    \n",
       "3              3011       20070701    350          AO2    \n",
       "4              3011       20070701    450          AO2    \n",
       "...             ...            ...    ...           ...   \n",
       "785801        96402       20070718    350             -   \n",
       "785802        96402       20070718    450             -   \n",
       "785803        96402       20070718    550             -   \n",
       "785804        96402       20070718    650             -   \n",
       "785805        96402       20070718   1250             -   \n",
       "\n",
       "        Maintenance Indicator                                 Sky Conditions  \\\n",
       "0                           -  CLR                                             \n",
       "1                           -  CLR                                             \n",
       "2                           -  CLR                                             \n",
       "3                           -  CLR                                             \n",
       "4                           -  CLR                                             \n",
       "...                       ...                                            ...   \n",
       "785801                      -  SCT040 BKN080 OVC110                            \n",
       "785802                      -  SCT040 BKN080 OVC110                            \n",
       "785803                      -  SCT040 BKN080 OVC110                            \n",
       "785804                      -  SCT040 BKN080 OVC110                            \n",
       "785805                      -  SCT040 BKN080 OVC120                            \n",
       "\n",
       "        Visibility  Weather Type  Dry Bulb Temp  Dew Point Temp  ...  \\\n",
       "0          10SM                -             57              18  ...   \n",
       "1          10SM                -             55              18  ...   \n",
       "2          10SM                -             54              16  ...   \n",
       "3          10SM                -             54              14  ...   \n",
       "4          10SM                -             54              14  ...   \n",
       "...            ...           ...            ...             ...  ...   \n",
       "785801     10SM                -              -               -  ...   \n",
       "785802     10SM                -              -               -  ...   \n",
       "785803     10SM                -              -               -  ...   \n",
       "785804     10SM                -              -               -  ...   \n",
       "785805     12SM                -              -               -  ...   \n",
       "\n",
       "        Wind Speed (kt)  Wind Direction  Wind Char. Gusts (kt)  \\\n",
       "0                     3             130                      -   \n",
       "1                     3             150                      -   \n",
       "2                     6             140                      -   \n",
       "3                     4             130                      -   \n",
       "4                     4             140                      -   \n",
       "...                 ...             ...                    ...   \n",
       "785801                0               0                      -   \n",
       "785802                0               0                      -   \n",
       "785803                0               0                      -   \n",
       "785804                0               0                      -   \n",
       "785805                6             210                      -   \n",
       "\n",
       "        Val for Wind Char.  Station Pressure  Pressure Tendency  \\\n",
       "0                        0             30.45                  -   \n",
       "1                        0             30.45                  -   \n",
       "2                        0             30.44                  -   \n",
       "3                        0             30.45                  -   \n",
       "4                        0             30.46                  -   \n",
       "...                    ...               ...                ...   \n",
       "785801                   0              29.8                  -   \n",
       "785802                   0             29.79                  -   \n",
       "785803                   0             29.79                  -   \n",
       "785804                   0             29.77                  -   \n",
       "785805                   0             29.72                  -   \n",
       "\n",
       "        Sea Level Pressure  Record Type  Precip. Total Unnamed: 21  \n",
       "0                        -           AA              -         NaN  \n",
       "1                        -           AA              -         NaN  \n",
       "2                        -           AA              -         NaN  \n",
       "3                        -           AA              -         NaN  \n",
       "4                        -           AA              -         NaN  \n",
       "...                    ...          ...            ...         ...  \n",
       "785801                   -           AA              -         NaN  \n",
       "785802                   -           AA              -         NaN  \n",
       "785803                   -           AA              -         NaN  \n",
       "785804                   -           AA              -         NaN  \n",
       "785805                   -           AA              -         NaN  \n",
       "\n",
       "[785806 rows x 22 columns]"
      ]
     },
     "execution_count": 5,
     "metadata": {},
     "output_type": "execute_result"
    }
   ],
   "source": [
    "df"
   ]
  },
  {
   "cell_type": "code",
   "execution_count": 8,
   "id": "9e6372cb",
   "metadata": {
    "scrolled": false
   },
   "outputs": [
    {
     "name": "stdout",
     "output_type": "stream",
     "text": [
      "Index(['Wban Number', ' YearMonthDay', ' Time', ' Station Type',\n",
      "       ' Maintenance Indicator', ' Sky Conditions', ' Visibility',\n",
      "       ' Weather Type', ' Dry Bulb Temp', ' Dew Point Temp', ' Wet Bulb Temp',\n",
      "       ' % Relative Humidity', ' Wind Speed (kt)', ' Wind Direction',\n",
      "       ' Wind Char. Gusts (kt)', ' Val for Wind Char.', ' Station Pressure',\n",
      "       ' Pressure Tendency', ' Sea Level Pressure', ' Record Type',\n",
      "       ' Precip. Total', 'Unnamed: 21'],\n",
      "      dtype='object')\n"
     ]
    }
   ],
   "source": [
    "print(df.columns)\n"
   ]
  },
  {
   "cell_type": "markdown",
   "id": "ad6a5da7",
   "metadata": {},
   "source": [
    "### 1.2 Pseudo Codes for Mappers"
   ]
  },
  {
   "cell_type": "markdown",
   "id": "d20d00ac",
   "metadata": {},
   "source": [
    "#### 1.2.1 Mapper1.py \n",
    "•\tThe difference between the maximum and the minimum “Wind Speed” from all the weather stations for each day in the month:"
   ]
  },
  {
   "cell_type": "raw",
   "id": "4eaa6fad",
   "metadata": {},
   "source": [
    "#!/usr/bin/env python3\n",
    "import sys\n",
    "import csv\n",
    "\n",
    "reader = csv.DictReader(sys.stdin)\n",
    "for row in reader:\n",
    "    try:\n",
    "        wban = row['Wban Number']\n",
    "        date = row[' YearMonthDay']\n",
    "        wind_speed = float(row[' Wind Speed (kt)'])\n",
    " \n",
    "        print(f\"{wban},{date}\\t{wind_speed}\")\n",
    "    except ValueError:\n",
    "        continue"
   ]
  },
  {
   "cell_type": "markdown",
   "id": "56efcf97",
   "metadata": {},
   "source": [
    "In this pseudo code, 'Wban Number' columns are used for weather stations, 'YearMonthDay' for each day and 'Wind Speed (kt)' columns for wind speed."
   ]
  },
  {
   "cell_type": "markdown",
   "id": "92a05d46",
   "metadata": {},
   "source": [
    "#### 1.2.2 Mapper2.py\n",
    "•\tThe daily minimum “Relative Humidity” from all the weather stations:"
   ]
  },
  {
   "cell_type": "raw",
   "id": "4422ede5",
   "metadata": {},
   "source": [
    "#!/usr/bin/env python3\n",
    "import sys\n",
    "import csv\n",
    "\n",
    "reader = csv.DictReader(sys.stdin)\n",
    "for row in reader:\n",
    "    try:\n",
    "        wban = row['Wban Number']\n",
    "        date = row[' YearMonthDay']\n",
    "        relative_humidity = float(row[' % Relative Humidity'])\n",
    "       \n",
    "        print(f\"{wban},{date}\\t{relative_humidity}\")\n",
    "    except ValueError:\n",
    "        continue"
   ]
  },
  {
   "cell_type": "markdown",
   "id": "fd3098fc",
   "metadata": {},
   "source": [
    "For this pseudo code, in addition to the 'Wban Number' and 'YearMonthDay' column used in the first question, the '% Relative Humidity' column is used for relative humidity."
   ]
  },
  {
   "cell_type": "markdown",
   "id": "ceade6ea",
   "metadata": {},
   "source": [
    "#### 1.2.3 Mapper3.py\n",
    "•\tThe daily mean and variance of “Dew Point Temp” from all the weather stations:"
   ]
  },
  {
   "cell_type": "raw",
   "id": "55e84942",
   "metadata": {},
   "source": [
    "#!/usr/bin/env python3\n",
    "import sys\n",
    "import csv\n",
    "\n",
    "reader = csv.DictReader(sys.stdin)\n",
    "for row in reader:\n",
    "    try:\n",
    "        wban = row['Wban Number']\n",
    "        date = row[' YearMonthDay']\n",
    "        dew_point_temp = float(row[' Dew Point Temp'])\n",
    "\n",
    "        print(f\"{wban},{date}\\t{dew_point_temp}\")\n",
    "    except ValueError:\n",
    "        continue"
   ]
  },
  {
   "cell_type": "markdown",
   "id": "c80214bb",
   "metadata": {},
   "source": [
    "In this mapper, the 'Wban Number' and 'YearMonthDay' columns remained the same and the 'Dew Point Temp' column was used for the relevant analysis."
   ]
  },
  {
   "cell_type": "markdown",
   "id": "29e33850",
   "metadata": {},
   "source": [
    "#### 1.2.4 Mapper4.py\n",
    "•\tThe correlation matrix that describes the monthly correlation among “Relative Humidity”, “Wind Speed” and “Dry Bulb Temp” from all the weather stations:"
   ]
  },
  {
   "cell_type": "raw",
   "id": "84c0cc97",
   "metadata": {},
   "source": [
    "#!/usr/bin/env python3\n",
    "import sys\n",
    "import csv\n",
    "\n",
    "reader = csv.DictReader(sys.stdin)\n",
    "for row in reader:\n",
    "    try:\n",
    "        wban = row['Wban Number']\n",
    "        relative_humidity = float(row[' % Relative Humidity'])\n",
    "        wind_speed = float(row[' Wind Speed (kt)'])\n",
    "        dry_bulb_temp = float(row[' Dry Bulb Temp'])\n",
    "\n",
    "        print(f\"{wban}\\t{relative_humidity}\\t{wind_speed}\\t{dry_bulb_temp}\")\n",
    "    except ValueError:\n",
    "        continue"
   ]
  },
  {
   "cell_type": "markdown",
   "id": "84107821",
   "metadata": {},
   "source": [
    "For this mapper, the desired variables for the correlation matrix are included."
   ]
  },
  {
   "cell_type": "markdown",
   "id": "9f11929a",
   "metadata": {},
   "source": [
    "### 1.3 Psuedu Codes for Reducers"
   ]
  },
  {
   "cell_type": "markdown",
   "id": "cb26cf6f",
   "metadata": {},
   "source": [
    "#### 1.3.1 Reducer1.py\n",
    "•\tThe difference between the maximum and the minimum “Wind Speed” from all the weather stations for each day in the month:"
   ]
  },
  {
   "cell_type": "raw",
   "id": "da907152",
   "metadata": {},
   "source": [
    "#!/usr/bin/env python3\n",
    "import sys\n",
    "\n",
    "current_key = None\n",
    "min_wind_speed = float('inf')\n",
    "max_wind_speed = float('-inf')\n",
    "\n",
    "for line in sys.stdin:\n",
    "    line = line.strip()\n",
    "    key, wind_speed = line.split('\\t', 1)\n",
    "    wind_speed = float(wind_speed)\n",
    "    \n",
    "    if current_key == key:\n",
    "        min_wind_speed = min(min_wind_speed, wind_speed)\n",
    "        max_wind_speed = max(max_wind_speed, wind_speed)\n",
    "    else:\n",
    "        if current_key is not None:\n",
    "\n",
    "            print(f\"{current_key}\\t{max_wind_speed - min_wind_speed}\")\n",
    "        current_key = key\n",
    "        min_wind_speed = wind_speed\n",
    "        max_wind_speed = wind_speed\n",
    "\n",
    "if current_key is not None:\n",
    "    print(f\"{current_key}\\t{max_wind_speed - min_wind_speed}\")"
   ]
  },
  {
   "cell_type": "markdown",
   "id": "a96a6322",
   "metadata": {},
   "source": [
    "Since the difference between the maximum and minimum wind speed is desired, the difference of the two values is taken in this reducer and written as the key value."
   ]
  },
  {
   "cell_type": "markdown",
   "id": "d753b3af",
   "metadata": {},
   "source": [
    "#### 1.3.2 Reducer2.py\n",
    "• The daily minimum “Relative Humidity” from all the weather stations:"
   ]
  },
  {
   "cell_type": "raw",
   "id": "39257ebf",
   "metadata": {},
   "source": [
    "#!/usr/bin/env python3\n",
    "import sys\n",
    "\n",
    "current_key = None\n",
    "min_relative_humidity = float('inf')\n",
    "\n",
    "for line in sys.stdin:\n",
    "    line = line.strip()\n",
    "    key, relative_humidity = line.split('\\t', 1)\n",
    "    relative_humidity = float(relative_humidity)\n",
    "    \n",
    "    if current_key == key:\n",
    "        min_relative_humidity = min(min_relative_humidity, relative_humidity)\n",
    "    else:\n",
    "        if current_key is not None:\n",
    "            # Emit the current key (WBAN, date) and the minimum relative humidity\n",
    "            print(f\"{current_key}\\t{min_relative_humidity}\")\n",
    "        current_key = key\n",
    "        min_relative_humidity = relative_humidity\n",
    "\n",
    "#Emit the final key if needed\n",
    "if current_key is not None:\n",
    "    print(f\"{current_key}\\t{min_relative_humidity}\")"
   ]
  },
  {
   "cell_type": "markdown",
   "id": "3372301e",
   "metadata": {},
   "source": [
    "Daily minimum 'Relative Humidity' is calculated as key value."
   ]
  },
  {
   "cell_type": "markdown",
   "id": "8490dac4",
   "metadata": {},
   "source": [
    "#### 1.3.3 Reducer3.py\n",
    "•\tThe daily mean and variance of “Dew Point Temp” from all the weather stations:"
   ]
  },
  {
   "cell_type": "raw",
   "id": "575e5a98",
   "metadata": {},
   "source": [
    "#!/usr/bin/env python3\n",
    "import sys\n",
    "\n",
    "current_key = None\n",
    "sum_temp = 0\n",
    "sum_temp_squared = 0\n",
    "count = 0\n",
    "\n",
    "for line in sys.stdin:\n",
    "    line = line.strip()\n",
    "    key, dew_point_temp = line.split('\\t', 1)\n",
    "    dew_point_temp = float(dew_point_temp)\n",
    "    \n",
    "    if current_key == key:\n",
    "        sum_temp += dew_point_temp\n",
    "        sum_temp_squared += dew_point_temp**2\n",
    "        count += 1\n",
    "    else:\n",
    "        if current_key is not None:\n",
    "\n",
    "            mean_temp = sum_temp / count\n",
    "            variance_temp = (sum_temp_squared - (sum_temp**2) / count) / count\n",
    "            print(f\"{current_key}\\t{mean_temp}\\t{variance_temp}\")\n",
    "        current_key = key\n",
    "        sum_temp = dew_point_temp\n",
    "        sum_temp_squared = dew_point_temp**2\n",
    "        count = 1\n",
    "\n",
    "if current_key is not None:\n",
    "    mean_temp = sum_temp / count\n",
    "    variance_temp = (sum_temp_squared - (sum_temp**2) / count) / count\n",
    "    print(f\"{current_key}\\t{mean_temp}\\t{variance_temp}\")"
   ]
  },
  {
   "cell_type": "markdown",
   "id": "83224ad2",
   "metadata": {},
   "source": [
    "'Dew Point Temp'. Calculations specified in the project sheet were made for the daily mean and variance of the variable for each weather station."
   ]
  },
  {
   "cell_type": "markdown",
   "id": "8b14adac",
   "metadata": {},
   "source": [
    "#### 1.3.4 Reducer4.py\n",
    "• The correlation matrix that describes the monthly correlation among “Relative Humidity”, “Wind Speed” and “Dry Bulb Temp” from all the weather stations:"
   ]
  },
  {
   "cell_type": "raw",
   "id": "45b2d01a",
   "metadata": {},
   "source": [
    "#!/usr/bin/env python3\n",
    "import sys\n",
    "from math import sqrt\n",
    "\n",
    "def pearson_correlation(x, y, n):\n",
    "    sum_x = sum(x)\n",
    "    sum_y = sum(y)\n",
    "    sum_x_sq = sum(xi**2 for xi in x)\n",
    "    sum_y_sq = sum(yi**2 for yi in y)\n",
    "    sum_xy = sum(xi * yi for xi, yi in zip(x, y))\n",
    "    numerator = sum_xy - (sum_x * sum_y / n)\n",
    "    denominator = sqrt((sum_x_sq - sum_x**2 / n) * (sum_y_sq - sum_y**2 / n))\n",
    "    if denominator == 0:\n",
    "        return 0\n",
    "    return numerator / denominator\n",
    "\n",
    "current_wban = None\n",
    "humidity = []\n",
    "wind_speed = []\n",
    "dry_bulb_temp = []\n",
    "\n",
    "for line in sys.stdin:\n",
    "    line = line.strip()\n",
    "    parts = line.split('\\t')\n",
    "    wban, rh, ws, dbt = parts[0], float(parts[1]), float(parts[2]), float(parts[3])\n",
    "    \n",
    "    if current_wban == wban:\n",
    "        humidity.append(rh)\n",
    "        wind_speed.append(ws)\n",
    "        dry_bulb_temp.append(dbt)\n",
    "    else:\n",
    "        if current_wban is not None:\n",
    "\n",
    "            n = len(humidity)\n",
    "            rh_ws_corr = pearson_correlation(humidity, wind_speed, n)\n",
    "            rh_dbt_corr = pearson_correlation(humidity, dry_bulb_temp, n)\n",
    "            ws_dbt_corr = pearson_correlation(wind_speed, dry_bulb_temp, n)\n",
    "            print(f\"{current_wban}\\t{rh_ws_corr}\\t{rh_dbt_corr}\\t{ws_dbt_corr}\")\n",
    "        \n",
    "        current_wban = wban\n",
    "        humidity = [rh]\n",
    "        wind_speed = [ws]\n",
    "        dry_bulb_temp = [dbt]\n",
    "\n",
    "if current_wban is not None:\n",
    "    n = len(humidity)\n",
    "    rh_ws_corr = pearson_correlation(humidity, wind_speed, n)\n",
    "    rh_dbt_corr = pearson_correlation(humidity, dry_bulb_temp, n)\n",
    "    ws_dbt_corr = pearson_correlation(wind_speed, dry_bulb_temp, n)\n",
    "    print(f\"{current_wban}\\t{rh_ws_corr}\\t{rh_dbt_corr}\\t{ws_dbt_corr}\")\n"
   ]
  },
  {
   "cell_type": "markdown",
   "id": "e449674b",
   "metadata": {},
   "source": [
    "Using the Pearson Correlation Coefficient, the correlation matrices of the three desired variables were created with function commands."
   ]
  },
  {
   "cell_type": "markdown",
   "id": "aa1dd7d7",
   "metadata": {},
   "source": [
    "### 1.4 Defining Mappers and Reducers Paths"
   ]
  },
  {
   "cell_type": "code",
   "execution_count": 63,
   "id": "ac2174c2",
   "metadata": {},
   "outputs": [
    {
     "name": "stdout",
     "output_type": "stream",
     "text": [
      "Current Working Directory: /Users/alperenunal/Big Data/Assignment 1\n"
     ]
    }
   ],
   "source": [
    "import os\n",
    "\n",
    "current_working_directory = os.getcwd()\n",
    "print(\"Current Working Directory:\", current_working_directory)\n",
    "\n",
    "\n",
    "mapper1_path = \"/Users/alperenunal/Desktop/BigData/Assgn-1/MapReduce/mapper1.py\"\n",
    "mapper2_path = \"/Users/alperenunal/Desktop/BigData/Assgn-1/MapReduce/mapper2.py\"\n",
    "mapper3_path = \"/Users/alperenunal/Desktop/BigData/Assgn-1/MapReduce/mapper3.py\"\n",
    "mapper4_path = \"/Users/alperenunal/Desktop/BigData/Assgn-1/MapReduce/mapper4.py\"\n",
    "reducer1_path = \"/Users/alperenunal/Desktop/BigData/Assgn-1/MapReduce/reducer1.py\"\n",
    "reducer2_path = \"/Users/alperenunal/Desktop/BigData/Assgn-1/MapReduce/reducer2.py\"\n",
    "reducer3_path = \"/Users/alperenunal/Desktop/BigData/Assgn-1/MapReduce/reducer3.py\"\n",
    "reducer4_path = \"/Users/alperenunal/Desktop/BigData/Assgn-1/MapReduce/reducer4.py\"\n",
    "dataset_csv_path= \"/Users/alperenunal/Desktop/BigData/Assgn-1/MapReduce/200707hourly.csv\"\n"
   ]
  },
  {
   "cell_type": "markdown",
   "id": "a55fc93a",
   "metadata": {},
   "source": [
    "### 1.5 Outputs"
   ]
  },
  {
   "cell_type": "markdown",
   "id": "eade4712",
   "metadata": {},
   "source": [
    "#### 1.5.1Output 1\n",
    "\n",
    "•\tThe difference between the maximum and the minimum “Wind Speed” from all the weather stations for each day in the month:"
   ]
  },
  {
   "cell_type": "code",
   "execution_count": 56,
   "id": "f9170ade",
   "metadata": {
    "scrolled": false
   },
   "outputs": [
    {
     "name": "stdout",
     "output_type": "stream",
     "text": [
      "Output:\n",
      " 96401,20070717\t10.0\n",
      "96401,20070718\t0.0\n",
      "96402,20070701\t5.0\n",
      "96402,20070702\t5.0\n",
      "96402,20070703\t4.0\n",
      "96402,20070704\t4.0\n",
      "96402,20070705\t6.0\n",
      "96402,20070706\t0.0\n",
      "96402,20070707\t4.0\n",
      "96402,20070708\t6.0\n",
      "96402,20070709\t4.0\n",
      "96402,20070710\t5.0\n",
      "96402,20070711\t8.0\n",
      "96402,20070712\t10.0\n",
      "96402,20070713\t6.0\n",
      "96402,20070714\t6.0\n",
      "96402,20070715\t10.0\n",
      "96402,20070716\t8.0\n",
      "96402,20070717\t4.0\n",
      "96402,20070718\t6.0\n",
      "\n"
     ]
    }
   ],
   "source": [
    "import subprocess\n",
    "# Construct the command to run\n",
    "command = f\"cat {dataset_csv_path} | python3 {mapper1_path} | sort | python3 {reducer1_path} | tail -n 20\"\n",
    "\n",
    "# Execute the command and capture the output\n",
    "process = subprocess.run(command, capture_output=True, text=True, shell=True)\n",
    "\n",
    "# Print the output, limiting to the last 20 lines\n",
    "if process.stdout:\n",
    "    print(\"Output:\\n\", process.stdout)\n",
    "if process.stderr:\n",
    "    print(\"Error Messages:\\n\", process.stderr)\n"
   ]
  },
  {
   "cell_type": "markdown",
   "id": "54fb8fc4",
   "metadata": {},
   "source": [
    "#### 1.5.2 Output 2"
   ]
  },
  {
   "cell_type": "markdown",
   "id": "9d856b7c",
   "metadata": {},
   "source": [
    "•\tThe daily minimum “Relative Humidity” from all the weather stations:"
   ]
  },
  {
   "cell_type": "code",
   "execution_count": 61,
   "id": "4f2f9fec",
   "metadata": {},
   "outputs": [
    {
     "name": "stdout",
     "output_type": "stream",
     "text": [
      "Daily Minimum of Relative Humidity:\n",
      " 94998,20070717\t39.0\n",
      "94998,20070718\t52.0\n",
      "94999,20070701\t58.0\n",
      "94999,20070702\t87.0\n",
      "94999,20070703\t77.0\n",
      "94999,20070704\t40.0\n",
      "94999,20070705\t49.0\n",
      "94999,20070706\t55.0\n",
      "94999,20070707\t57.0\n",
      "94999,20070708\t66.0\n",
      "94999,20070709\t50.0\n",
      "94999,20070710\t59.0\n",
      "94999,20070711\t53.0\n",
      "94999,20070712\t53.0\n",
      "94999,20070713\t54.0\n",
      "94999,20070714\t62.0\n",
      "94999,20070715\t50.0\n",
      "94999,20070716\t60.0\n",
      "94999,20070717\t63.0\n",
      "94999,20070718\t51.0\n",
      "\n"
     ]
    }
   ],
   "source": [
    "command = f\"cat {dataset_csv_path} | python3 {mapper2_path} | sort | python3 {reducer2_path} | tail -n 20\"\n",
    "\n",
    "process = subprocess.run(command, capture_output=True, text=True, shell=True)\n",
    "\n",
    "if process.stdout:\n",
    "    print(\"Daily Minimum of Relative Humidity:\\n\", process.stdout)\n",
    "if process.stderr:\n",
    "    print(\"Error Messages:\\n\", process.stderr)\n"
   ]
  },
  {
   "cell_type": "markdown",
   "id": "0982d71f",
   "metadata": {},
   "source": [
    "#### 1.5.3 Output 3\n",
    "•\tThe daily mean and variance of “Dew Point Temp” from all the weather stations:"
   ]
  },
  {
   "cell_type": "code",
   "execution_count": 59,
   "id": "1212c85c",
   "metadata": {},
   "outputs": [
    {
     "name": "stdout",
     "output_type": "stream",
     "text": [
      "Output:\n",
      " 94998,20070717\t66.66666666666667\t3.2222222222220203\n",
      "94998,20070718\t67.9090909090909\t7.082644628098933\n",
      "94999,20070701\t57.5\t28.833333333333332\n",
      "94999,20070702\t62.95652173913044\t25.08506616257111\n",
      "94999,20070703\t67.75\t31.770833333333332\n",
      "94999,20070704\t60.916666666666664\t26.90972222222202\n",
      "94999,20070705\t61.69565217391305\t12.124763705103998\n",
      "94999,20070706\t60.041666666666664\t32.95659722222202\n",
      "94999,20070707\t68.29166666666667\t76.53993055555536\n",
      "94999,20070708\t69.70833333333333\t29.789930555555355\n",
      "94999,20070709\t59.75\t6.520833333333333\n",
      "94999,20070710\t58.0\t13.833333333333334\n",
      "94999,20070711\t54.375\t5.234375\n",
      "94999,20070712\t52.416666666666664\t13.826388888888687\n",
      "94999,20070713\t55.041666666666664\t82.12326388888869\n",
      "94999,20070714\t58.958333333333336\t5.539930555555354\n",
      "94999,20070715\t56.625\t23.567708333333332\n",
      "94999,20070716\t61.833333333333336\t9.388888888888687\n",
      "94999,20070717\t66.08333333333333\t33.99305555555535\n",
      "94999,20070718\t63.31818181818182\t16.398760330578213\n",
      "\n"
     ]
    }
   ],
   "source": [
    "command = f\"cat {dataset_csv_path} | python3 {mapper3_path} | sort | python3 {reducer3_path} | tail -n 20\"\n",
    "\n",
    "process = subprocess.run(command, capture_output=True, text=True, shell=True)\n",
    "\n",
    "if process.stdout:\n",
    "    print(\"Output:\\n\", process.stdout)\n",
    "if process.stderr:\n",
    "    print(\"Error Messages:\\n\", process.stderr)"
   ]
  },
  {
   "cell_type": "markdown",
   "id": "3b4e1ac1",
   "metadata": {},
   "source": [
    "#### 1.5.4 Output 4\n",
    "• The correlation matrix that describes the monthly correlation among “Relative Humidity”, “Wind Speed” and “Dry Bulb Temp” from all the weather stations:"
   ]
  },
  {
   "cell_type": "code",
   "execution_count": 60,
   "id": "d5e680cc",
   "metadata": {},
   "outputs": [
    {
     "name": "stdout",
     "output_type": "stream",
     "text": [
      "Output:\n",
      " 94973\t-0.5992014826652557\t-0.7397526782927879\t0.3933506189672141\n",
      "94974\t-0.550433720138871\t-0.6552066863043948\t0.32631153950142944\n",
      "94975\t-0.2978841891544884\t-0.8575551875149446\t0.3139832015574384\n",
      "94976\t-0.49226257309000304\t-0.6140404364671108\t0.3254569075108478\n",
      "94977\t-0.46731355893754106\t-0.8415459016714644\t0.44919413644938716\n",
      "94978\t-0.4967787176874852\t-0.8465720580121692\t0.4572237776542308\n",
      "94979\t-0.2786008464452675\t-0.6518751050856418\t0.35354113144204435\n",
      "94982\t-0.24358723734316023\t-0.6605835661735721\t0.3209313649889729\n",
      "94985\t-0.5042136382768406\t-0.5726984832462115\t0.25581104152373135\n",
      "94986\t-0.49338776964668174\t-0.5235121223060971\t0.4269842219472103\n",
      "94988\t-0.5091607781487568\t-0.7064777491616554\t0.40694273654837887\n",
      "94989\t-0.5343994306451241\t-0.7336026271218099\t0.4775005502672471\n",
      "94990\t-0.13813579229489753\t-0.9081046918899859\t0.27294646667310085\n",
      "94991\t-0.42680906803250973\t-0.7728753399571313\t0.48471878423400805\n",
      "94992\t-0.2682932309071821\t-0.8457646128509774\t0.17586839239183802\n",
      "94993\t-0.5400306549320869\t-0.7261906991744855\t0.36776863404443694\n",
      "94994\t-0.6662299802234174\t-0.7074053952136649\t0.6089824345496822\n",
      "94997\t-0.4988516577352462\t-0.7905607000386929\t0.3143040654904199\n",
      "94998\t-0.5815653442504098\t-0.8003040324324405\t0.6016249394945695\n",
      "94999\t-0.5408660582459286\t-0.7129521383393224\t0.4160555037751915\n",
      "\n"
     ]
    }
   ],
   "source": [
    "command = f\"cat {dataset_csv_path} | python3 {mapper4_path} | sort | python3 {reducer4_path} | tail -n 20\"\n",
    "\n",
    "process = subprocess.run(command, capture_output=True, text=True, shell=True)\n",
    "\n",
    "if process.stdout:\n",
    "    print(\"Output:\\n\", process.stdout)\n",
    "if process.stderr:\n",
    "    print(\"Error Messages:\\n\", process.stderr)"
   ]
  },
  {
   "cell_type": "markdown",
   "id": "d1979981",
   "metadata": {},
   "source": [
    "### 1.6 Limitations of Map-Reduce"
   ]
  },
  {
   "cell_type": "markdown",
   "id": "da71abf1",
   "metadata": {},
   "source": [
    "MapReduce is a powerful and scalable model for processing large datasets, yet it has certain limitations:\n",
    "\n",
    "* Rigid Data Flow: The MapReduce workflow consists of two main steps (map and reduce), which can be insufficient for some processing models. For complex data processing needs, running multiple MapReduce jobs sequentially may be necessary, leading to efficiency and performance losses.\n",
    "\n",
    "* Disk I/O Cost: The need to write intermediate results to disk can significantly reduce performance, especially when working with large datasets.\n",
    "\n",
    "* Lack of Real-Time Processing: MapReduce is based on a batch processing model and is not suitable for real-time data processing. Applications requiring real-time analysis should consider alternative technologies.\n",
    "\n",
    "* Configuration and Management Complexity: Large and complex Hadoop cluster configurations can make management difficult and increase operational costs.\n",
    "\n",
    "These limitations indicate that MapReduce is not ideal for every type of data processing scenario. However, it remains a powerful and valuable tool for specific situations and requirements."
   ]
  },
  {
   "cell_type": "markdown",
   "id": "dc78a837",
   "metadata": {},
   "source": [
    "## 2. Cluster Analysis using Apache Mahout"
   ]
  },
  {
   "cell_type": "markdown",
   "id": "6f49804e",
   "metadata": {},
   "source": [
    "### 2.1 Mahout Calculation\n",
    "\n",
    "Creating sequence files from raw text.\n",
    "* mahout seqdirectory -i docs -o docs-seqfiles -c UTF-8 -chunk 5\n",
    "Generating TF and TF-IDF vectors:\n",
    "* mahout seq2sparse -nv -i docs-seqfiles -o docs-vectors\n",
    "\n",
    "For these measures, I use 'western_classics' dataset and in addition to this 'books.txt' from our lecture"
   ]
  },
  {
   "cell_type": "markdown",
   "id": "a32dff57",
   "metadata": {},
   "source": [
    "### 2.2 Squared Euclidean Distance Measures with Different K values"
   ]
  },
  {
   "cell_type": "markdown",
   "id": "5be390e2",
   "metadata": {},
   "source": [
    "After the steps above, we need generate 'canopies' with Euclidean Distance Measure for K-Means on DSM1 the first command is:\n",
    "\n",
    "##### mahout canopy -i docs-vectors/tfidf-vectors -o canopy-centroids-sq-euclidean -dm org.apache.mahout.common.distance.SquaredEuclideanDistanceMeasure -t1 1500 -t2 2000"
   ]
  },
  {
   "cell_type": "markdown",
   "id": "df3185bb",
   "metadata": {},
   "source": [
    "#### 2.2.1 K=1"
   ]
  },
  {
   "cell_type": "markdown",
   "id": "fa0280b7",
   "metadata": {},
   "source": [
    "* mahout kmeans -i docs-vectors/tfidf-vectors -c canopy-centroids-sq-euclidean -o docs-kmeans-clusters-sq-euclidean-k1 -dm org.apache.mahout.common.distance.SquaredEuclideanDistanceMeasure -cl -cd 0.1 -ow -x 20 -k 1\n",
    "\n",
    "* hadoop fs -ls docs-kmeans-clusters-sq-euclidean-k1\n",
    "\n",
    "* mahout clusterdump -dt sequencefile -d docs-vectors/dictionary.file-* -i docs-kmeans-clusters-sq-euclidean-k1/clusters-3-final -o clusters-sq-euc-k1.txt -b 100 -p docs-kmeans-clusters-sq-euclidean-k1/clusteredPoints -n 20 --evaluate\n",
    "\n",
    "* tail ./clusters-sq-euc-k1.txt\n",
    "\n",
    "After these commands above, we run K-Means algorithm for k=1 and we created a cluster for euclidean measure. After checking final iteration we created the txt file with statistical evaluation lines at the end of the txt file.\n",
    "##### Inter-Cluster Density: NaN\n",
    "##### Intra-Cluster Density: 0.6603071501779987"
   ]
  },
  {
   "cell_type": "markdown",
   "id": "11bb392d",
   "metadata": {},
   "source": [
    "#### 2.2.2 K=3"
   ]
  },
  {
   "cell_type": "markdown",
   "id": "bb130b68",
   "metadata": {},
   "source": [
    "* mahout kmeans -i docs-vectors/tfidf-vectors -c canopy-centroids-sq-euclidean -o docs-kmeans-clusters-sq-euclidean-k3 -dm org.apache.mahout.common.distance.SquaredEuclideanDistanceMeasure -cl -cd 0.1 -ow -x 20 -k 3\n",
    "* hadoop fs -ls docs-kmeans-clusters-sq-euclidean-k3\n",
    "* mahout clusterdump -dt sequencefile -d docs-vectors/dictionary.file-* -i docs-kmeans-clusters-sq-euclidean-k3/clusters-3-final -o clusters-sq-euc-k3.txt -b 100 -p docs-kmeans-clusters-sq-euclidean-k3/clusteredPoints -n 20 --evaluate\n",
    "* tail ./clusters-sq-euc-k3.txt"
   ]
  },
  {
   "cell_type": "markdown",
   "id": "165dcd25",
   "metadata": {},
   "source": [
    "##### Inter-Cluster Density: 0.4349088337247659\n",
    "##### Intra-Cluster Density: 0.5654190860115158"
   ]
  },
  {
   "cell_type": "markdown",
   "id": "711af72d",
   "metadata": {},
   "source": [
    "#### 2.2.3 K=5"
   ]
  },
  {
   "cell_type": "markdown",
   "id": "5d28e848",
   "metadata": {},
   "source": [
    "* mahout kmeans -i docs-vectors/tfidf-vectors -c canopy-centroids-sq-euclidean -o docs-kmeans-clusters-sq-euclidean-k5 -dm org.apache.mahout.common.distance.SquaredEuclideanDistanceMeasure -cl -cd 0.1 -ow -x 20 -k 5\n",
    "* hadoop fs -ls docs-kmeans-clusters-sq-euclidean-k5\n",
    "* mahout clusterdump -dt sequencefile -d docs-vectors/dictionary.file-* -i docs-kmeans-clusters-sq-euclidean-k5/clusters-3-final -o clusters-sq-euc-k5.txt -b 100 -p docs-kmeans-clusters-sq-euclidean-k5/clusteredPoints -n 20 --evaluate\n",
    "* tail ./clusters-euc-k5.txt\n",
    "\n",
    "##### Inter-Cluster Density: 0.43697089107424475\n",
    "##### Intra-Cluster Density: 0.5693756016100209"
   ]
  },
  {
   "cell_type": "markdown",
   "id": "eaecfa05",
   "metadata": {},
   "source": [
    "#### 2.2.4 K=7\n",
    "* mahout kmeans -i docs-vectors/tfidf-vectors -c canopy-centroids-sq-euclidean -o docs-kmeans-clusters-sq-euclidean-k7 -dm org.apache.mahout.common.distance.SquaredEuclideanDistanceMeasure -cl -cd 0.1 -ow -x 20 -k 7\n",
    "\n",
    "* hadoop fs -ls docs-kmeans-clusters-sq-euclidean-k7\n",
    "\n",
    "* mahout clusterdump -dt sequencefile -d docs-vectors/dictionary.file-* -i docs-kmeans-clusters-sq-euclidean-k7/clusters-4-final -o clusters-sq-euc-k7.txt -b 100 -p docs-kmeans-clusters-sq-euclidean-k7/clusteredPoints -n 20 --evaluate\n",
    "\n",
    "* tail ./clusters-sq-euc-k7.txt\n",
    "##### Inter-Cluster Density: 0.4177968555166761\n",
    "###### Intra-Cluster Density: 0.514249636581122"
   ]
  },
  {
   "cell_type": "markdown",
   "id": "6c70474e",
   "metadata": {},
   "source": [
    "#### 2.2.5 K=10\n",
    "* mahout kmeans -i docs-vectors/tfidf-vectors -c canopy-centroids-sq-euclidean -o docs-kmeans-clusters-sq-euclidean-k10 -dm org.apache.mahout.common.distance.SquaredEuclideanDistanceMeasure -cl -cd 0.1 -ow -x 20 -k 10\n",
    "\n",
    "* hadoop fs -ls docs-kmeans-clusters-sq-euclidean-k10\n",
    "\n",
    "* mahout clusterdump -dt sequencefile -d docs-vectors/dictionary.file-* -i docs-kmeans-clusters-sq-euclidean-k10/clusters-3-final -o clusters-euc-k10.txt -b 100 -p docs-kmeans-clusters-sq-euclidean-k10/clusteredPoints -n 20 --evaluate\n",
    "\n",
    "* tail ./clusters-sq-euc-k10.txt\n",
    "##### Inter-Cluster Density: 0.3989316506179806\n",
    "##### Intra-Cluster Density: 0.6572495524032275"
   ]
  },
  {
   "cell_type": "markdown",
   "id": "e0927028",
   "metadata": {},
   "source": [
    "The Euclidean distance results for varying k values indicate that k=5 offers the optimal balance between well-defined, separate clusters and closely packed clusters within each group. This balance is highlighted by the highest Intra-Cluster Density and a significant Inter-Cluster Density at k=5, suggesting an effective clustering scenario. While k=1 presents a single, compact cluster, and k=10 shows diminished cluster compactness and separation, k=5 emerges as the preferred choice for achieving both clarity in cluster definition and density. Nonetheless, the choice of the best k value should also consider the specific characteristics of the dataset and the objectives of the clustering analysis, ensuring that any decision aligns with the particular needs of the data analysis."
   ]
  },
  {
   "cell_type": "markdown",
   "id": "55794064",
   "metadata": {},
   "source": [
    "### 2.3 Manhattan Distance Measures with Different K values"
   ]
  },
  {
   "cell_type": "markdown",
   "id": "cb311029",
   "metadata": {},
   "source": [
    "For generating 'canopies' with Manhattan Distance Measure on DSM1 the first command is:\n",
    "##### mahout canopy -i docs-vectors/tfidf-vectors -o canopy-centroids-manhattan -dm org.apache.mahout.common.distance.ManhattanDistanceMeasure -t1 1500 -t2 2000"
   ]
  },
  {
   "cell_type": "markdown",
   "id": "5ac97e79",
   "metadata": {},
   "source": [
    "#### 2.3.1 K=1\n",
    "* mahout kmeans -i docs-vectors/tfidf-vectors -c canopy-centroids-manhattan -o docs-kmeans-clusters-manhattan-k1 -dm org.apache.mahout.common.distance.ManhattanDistanceMeasure -cl -cd 0.1 -ow -x 20 -k 1\n",
    "\n",
    "* hadoop fs -ls docs-kmeans-clusters-manhattan-k1\n",
    "\n",
    "* mahout clusterdump -dt sequencefile -d docs-vectors/dictionary.file-* -i docs-kmeans-clusters-manhattan-k1/clusters-3-final -o clusters-man-k1.txt -b 100 -p docs-kmeans-clusters-manhattan-k1/clusteredPoints -n 20 --evaluate\n",
    "\n",
    "* tail ./clusters-man-k1.txt\n",
    "##### Inter-Cluster Density: NaN\n",
    "##### Intra-Cluster Density: 0.6603071501779987\n",
    "\n"
   ]
  },
  {
   "cell_type": "markdown",
   "id": "1abcd691",
   "metadata": {},
   "source": [
    "#### 2.3.2 K=3\n",
    "* mahout kmeans -i docs-vectors/tfidf-vectors -c canopy-centroids-manhattan -o docs-kmeans-clusters-manhattan-k3 -dm org.apache.mahout.common.distance.ManhattanDistanceMeasure -cl -cd 0.1 -ow -x 20 -k 3\n",
    "\n",
    "* hadoop fs -ls docs-kmeans-clusters-manhattan-k3\n",
    "\n",
    "* mahout clusterdump -dt sequencefile -d docs-vectors/dictionary.file-* -i docs-kmeans-clusters-manhattan-k3/clusters-3-final -o clusters-man-k3.txt -b 100 -p docs-kmeans-clusters-manhattan-k3/clusteredPoints -n 20 --evaluate\n",
    "\n",
    "* tail ./clusters-man-k3.txt\n",
    "##### Inter-Cluster Density: 0.409480527330526\n",
    "##### Intra-Cluster Density: 0.6566780620584004"
   ]
  },
  {
   "cell_type": "markdown",
   "id": "1741cc17",
   "metadata": {},
   "source": [
    "#### 2.3.3 K=5\n",
    "* mahout kmeans -i docs-vectors/tfidf-vectors -c canopy-centroids-manhattan -o docs-kmeans-clusters-manhattan-k5 -dm org.apache.mahout.common.distance.ManhattanDistanceMeasure -cl -cd 0.1 -ow -x 20 -k 5\n",
    "\n",
    "* hadoop fs -ls docs-kmeans-clusters-manhattan-k5\n",
    "\n",
    "* mahout clusterdump -dt sequencefile -d docs-vectors/dictionary.file-* -i docs-kmeans-clusters-manhattan-k5/clusters-3-final -o clusters-man-k5.txt -b 100 -p docs-kmeans-clusters-manhattan-k5/clusteredPoints -n 20 --evaluate\n",
    "\n",
    "* tail ./clusters-man-k5.txt\n",
    "##### Inter-Cluster Density: 0.48013343187985164\n",
    "##### Intra-Cluster Density: 0.5257533230286466"
   ]
  },
  {
   "cell_type": "markdown",
   "id": "8e51df10",
   "metadata": {},
   "source": [
    "#### 2.3.4 K=7\n",
    "* mahout kmeans -i docs-vectors/tfidf-vectors -c canopy-centroids-manhattan -o docs-kmeans-clusters-manhattan-k7 -dm org.apache.mahout.common.distance.ManhattanDistanceMeasure -cl -cd 0.1 -ow -x 20 -k 7\n",
    "\n",
    "* hadoop fs -ls docs-kmeans-clusters-manhattan-k7\n",
    "\n",
    "* mahout clusterdump -dt sequencefile -d docs-vectors/dictionary.file-* -i docs-kmeans-clusters-manhattan-k7/clusters-5-final -o clusters-man-k7.txt -b 100 -p docs-kmeans-clusters-manhattan-k7/clusteredPoints -n 20 --evaluate\n",
    "\n",
    "* tail ./clusters-man-k7.txt\n",
    "##### Inter-Cluster Density: 0.47984379417391576\n",
    "##### Intra-Cluster Density: 0.602641375733723"
   ]
  },
  {
   "cell_type": "markdown",
   "id": "d30ec359",
   "metadata": {},
   "source": [
    "#### 2.3.5 K=10\n",
    "* mahout kmeans -i docs-vectors/tfidf-vectors -c canopy-centroids-manhattan -o docs-kmeans-clusters-manhattan-k10 -dm org.apache.mahout.common.distance.ManhattanDistanceMeasure -cl -cd 0.1 -ow -x 20 -k 10\n",
    "\n",
    "* hadoop fs -ls docs-kmeans-clusters-manhattan-k10\n",
    "\n",
    "* mahout clusterdump -dt sequencefile -d docs-vectors/dictionary.file-* -i docs-kmeans-clusters-manhattan-k10/clusters-3-final -o clusters-man-k10.txt -b 100 -p docs-kmeans-clusters-manhattan-k10/clusteredPoints -n 20 --evaluate\n",
    "\n",
    "* tail ./clusters-man-k10.txt\n",
    "##### Inter-Cluster Density: 0.3990329948984028\n",
    "##### Intra-Cluster Density: 0.5843788907180333"
   ]
  },
  {
   "cell_type": "markdown",
   "id": "c3a0df17",
   "metadata": {},
   "source": [
    "The Manhattan distance results suggest k=7 as a balanced choice for clustering, with a good mix of inter-cluster separation and intra-cluster tightness. k=3 is also notable for similar reasons but with slightly more emphasis on cluster distinction. While k=10 shows the best cluster separation, it lacks the internal compactness of clusters seen in k=7 and k=3. Thus, k=7 and k=3 are identified as optimal for achieving a balance between defining distinct clusters and maintaining cohesion within clusters, with the final selection dependent on specific data characteristics and analysis goals."
   ]
  },
  {
   "cell_type": "markdown",
   "id": "412b09d0",
   "metadata": {},
   "source": [
    "## 2.4 Cosine Distance Measure"
   ]
  },
  {
   "cell_type": "markdown",
   "id": "f3453cf5",
   "metadata": {},
   "source": [
    "While creating a 'canopy' for cosine distance measure, unlike Euclidian and Manhattan measure distance, we created ten different clusters with ten k values from one to ten. The reason for this was to better observe the relationship between the average distance to the centroid and the k value. Therefore, as an example, we explained step by step the formation process of clusters created with four different k values.\n",
    "##### mahout canopy -i docs-vectors/tfidf-vectors -ow -o docs-vectors/docs-canopy-centroids -dm org.apache.mahout.common.distance.CosineDistanceMeasure -t1 1500 -t2 2000"
   ]
  },
  {
   "cell_type": "markdown",
   "id": "e55baa3f",
   "metadata": {},
   "source": [
    "#### 2.4.1 K=1"
   ]
  },
  {
   "cell_type": "markdown",
   "id": "a0b62b89",
   "metadata": {},
   "source": [
    "* mahout kmeans -i docs-vectors/tfidf-vectors -c docs-canopy-centroids -o docs-kmeans-clusters-k1 -dm org.apache.mahout.common.distance.CosineDistanceMeasure -cl -cd 0.1 -ow -x 20 -k 1   \n",
    "* hadoop fs -ls docs-kmeans-clusters-k1\n",
    "* mahout clusterdump -dt sequencefile -d docs-vectors/dictionary.file-* -i docs-kmeans-clusters-k1/clusters-2-final -o clusters-k1.txt -b 100 -p docs-kmeans-clusters-k1/clusteredPoints -n 20 --evaluate\n",
    "* tail ./clusters-k1.txt\n",
    "##### Inter-Cluster Density: NaN\n",
    "##### Intra-Cluster Density: 0.6603071501779987"
   ]
  },
  {
   "cell_type": "markdown",
   "id": "9c5ecd2c",
   "metadata": {},
   "source": [
    "#### 2.4.2 K=2\n",
    "* mahout kmeans -i docs-vectors/tfidf-vectors -c docs-canopy-centroids -o docs-kmeans-clusters-k2 -dm org.apache.mahout.common.distance.CosineDistanceMeasure -cl -cd 0.1 -ow -x 20 -k 2\n",
    "* hadoop fs -ls docs-kmeans-clusters-k2\n",
    "* mahout clusterdump -dt sequencefile -d docs-vectors/dictionary.file-* -i docs-kmeans-clusters-k2/clusters-2-final -o clusters-k2.txt -b 100 -p docs-kmeans-clusters-k2/clusteredPoints -n 20 --evaluate\n",
    "* tail ./clusters-k2.txt\n",
    "##### Inter-Cluster Density: NaN\n",
    "##### Intra-Cluster Density: 0.609020994020959"
   ]
  },
  {
   "cell_type": "markdown",
   "id": "08dee586",
   "metadata": {},
   "source": [
    "#### 2.4.3 K=3 \n",
    "* mahout kmeans -i docs-vectors/tfidf-vectors -c docs-canopy-centroids -o docs-kmeans-clusters-k3 -dm org.apache.mahout.common.distance.CosineDistanceMeasure -cl -cd 0.1 -ow -x 20 -k 3\n",
    "* hadoop fs -ls docs-kmeans-clusters-k3\n",
    "* mahout clusterdump -dt sequencefile -d docs-vectors/dictionary.file-* -i docs-kmeans-clusters-k3/clusters-2-final -o clusters-k3.txt -b 100 -p docs-kmeans-clusters-k3/clusteredPoints -n 20 --evaluate\n",
    "* tail ./clusters-k3.txt\n",
    "##### Inter-Cluster Density: 0.4867451222238232\n",
    "##### Intra-Cluster Density: 0.6357191058366416"
   ]
  },
  {
   "cell_type": "markdown",
   "id": "87242f91",
   "metadata": {},
   "source": [
    "#### 2.4.4 K=4\n",
    "* mahout kmeans -i docs-vectors/tfidf-vectors -c docs-canopy-centroids -o docs-kmeans-clusters-k4 -dm org.apache.mahout.common.distance.CosineDistanceMeasure -cl -cd 0.1 -ow -x 20 -k 4\n",
    "* hadoop fs -ls docs-kmeans-clusters-k4\n",
    "* mahout clusterdump -dt sequencefile -d docs-vectors/dictionary.file-* -i docs-kmeans-clusters-k4/clusters-2-final -o clusters-k4.txt -b 100 -p docs-kmeans-clusters-k4/clusteredPoints -n 20 --evaluate\n",
    "* tail ./clusters-k4.txt\n",
    "##### Inter-Cluster Density: 0.4934554149849282\n",
    "##### Intra-Cluster Density: 0.5916430954776636"
   ]
  },
  {
   "cell_type": "markdown",
   "id": "f74fb219",
   "metadata": {},
   "source": [
    "#### K=5\n",
    "##### Inter-Cluster Density: 0.5952716202091901\n",
    "##### Intra-Cluster Density: 0.5855042816995901\n",
    "\n",
    "#### K=6\n",
    "##### Inter-Cluster Density: 0.5964930640984843\n",
    "\n",
    "##### Intra-Cluster Density: 0.5574720188824531\n",
    "#### K=7\n",
    "##### Inter-Cluster Density: 0.4364813198604249\n",
    "##### Intra-Cluster Density: 0.5696287464515573\n",
    "#### K=8\n",
    "##### Inter-Cluster Density: 0.35985184446654656\n",
    "##### Intra-Cluster Density: 0.5475008532800699\n",
    "#### K=9\n",
    "##### Inter-Cluster Density: 0.2947027856108523\n",
    "##### Intra-Cluster Density: 0.5370047583442\n",
    "#### K=10\n",
    "##### Inter-Cluster Density: 0.5208913016563401\n",
    "##### Intra-Cluster Density: 0.5298341640294627"
   ]
  },
  {
   "cell_type": "markdown",
   "id": "161cbdb1",
   "metadata": {},
   "source": [
    "### 2.5 Table of Distance Measures"
   ]
  },
  {
   "cell_type": "code",
   "execution_count": 37,
   "id": "ca67028f",
   "metadata": {
    "scrolled": false
   },
   "outputs": [
    {
     "data": {
      "text/html": [
       "<div>\n",
       "<style scoped>\n",
       "    .dataframe tbody tr th:only-of-type {\n",
       "        vertical-align: middle;\n",
       "    }\n",
       "\n",
       "    .dataframe tbody tr th {\n",
       "        vertical-align: top;\n",
       "    }\n",
       "\n",
       "    .dataframe thead tr th {\n",
       "        text-align: left;\n",
       "    }\n",
       "\n",
       "    .dataframe thead tr:last-of-type th {\n",
       "        text-align: right;\n",
       "    }\n",
       "</style>\n",
       "<table border=\"1\" class=\"dataframe\">\n",
       "  <thead>\n",
       "    <tr>\n",
       "      <th></th>\n",
       "      <th colspan=\"3\" halign=\"left\">Inter-Cluster Density</th>\n",
       "      <th colspan=\"3\" halign=\"left\">Intra-Cluster Density</th>\n",
       "    </tr>\n",
       "    <tr>\n",
       "      <th>Distance Measure</th>\n",
       "      <th>Cosine</th>\n",
       "      <th>Manhattan</th>\n",
       "      <th>Squared Euclidean</th>\n",
       "      <th>Cosine</th>\n",
       "      <th>Manhattan</th>\n",
       "      <th>Squared Euclidean</th>\n",
       "    </tr>\n",
       "    <tr>\n",
       "      <th>k</th>\n",
       "      <th></th>\n",
       "      <th></th>\n",
       "      <th></th>\n",
       "      <th></th>\n",
       "      <th></th>\n",
       "      <th></th>\n",
       "    </tr>\n",
       "  </thead>\n",
       "  <tbody>\n",
       "    <tr>\n",
       "      <th>1</th>\n",
       "      <td>0.000000</td>\n",
       "      <td>0.0</td>\n",
       "      <td>0.0</td>\n",
       "      <td>0.660307</td>\n",
       "      <td>0.660307</td>\n",
       "      <td>0.660307</td>\n",
       "    </tr>\n",
       "    <tr>\n",
       "      <th>2</th>\n",
       "      <td>0.000000</td>\n",
       "      <td></td>\n",
       "      <td></td>\n",
       "      <td>0.609021</td>\n",
       "      <td></td>\n",
       "      <td></td>\n",
       "    </tr>\n",
       "    <tr>\n",
       "      <th>3</th>\n",
       "      <td>0.486745</td>\n",
       "      <td>0.409481</td>\n",
       "      <td>0.434909</td>\n",
       "      <td>0.635719</td>\n",
       "      <td>0.656678</td>\n",
       "      <td>0.565419</td>\n",
       "    </tr>\n",
       "    <tr>\n",
       "      <th>4</th>\n",
       "      <td>0.493455</td>\n",
       "      <td></td>\n",
       "      <td></td>\n",
       "      <td>0.591643</td>\n",
       "      <td></td>\n",
       "      <td></td>\n",
       "    </tr>\n",
       "    <tr>\n",
       "      <th>5</th>\n",
       "      <td>0.595272</td>\n",
       "      <td>0.480133</td>\n",
       "      <td>0.436971</td>\n",
       "      <td>0.585504</td>\n",
       "      <td>0.525753</td>\n",
       "      <td>0.569376</td>\n",
       "    </tr>\n",
       "    <tr>\n",
       "      <th>6</th>\n",
       "      <td>0.596493</td>\n",
       "      <td></td>\n",
       "      <td></td>\n",
       "      <td>0.557472</td>\n",
       "      <td></td>\n",
       "      <td></td>\n",
       "    </tr>\n",
       "    <tr>\n",
       "      <th>7</th>\n",
       "      <td>0.436481</td>\n",
       "      <td>0.479844</td>\n",
       "      <td>0.417797</td>\n",
       "      <td>0.569629</td>\n",
       "      <td>0.602641</td>\n",
       "      <td>0.51425</td>\n",
       "    </tr>\n",
       "    <tr>\n",
       "      <th>8</th>\n",
       "      <td>0.359852</td>\n",
       "      <td></td>\n",
       "      <td></td>\n",
       "      <td>0.547501</td>\n",
       "      <td></td>\n",
       "      <td></td>\n",
       "    </tr>\n",
       "    <tr>\n",
       "      <th>9</th>\n",
       "      <td>0.294703</td>\n",
       "      <td></td>\n",
       "      <td></td>\n",
       "      <td>0.537005</td>\n",
       "      <td></td>\n",
       "      <td></td>\n",
       "    </tr>\n",
       "    <tr>\n",
       "      <th>10</th>\n",
       "      <td>0.520891</td>\n",
       "      <td>0.399033</td>\n",
       "      <td>0.398932</td>\n",
       "      <td>0.529834</td>\n",
       "      <td>0.584379</td>\n",
       "      <td>0.65725</td>\n",
       "    </tr>\n",
       "  </tbody>\n",
       "</table>\n",
       "</div>"
      ],
      "text/plain": [
       "                 Inter-Cluster Density                              \\\n",
       "Distance Measure                Cosine Manhattan Squared Euclidean   \n",
       "k                                                                    \n",
       "1                             0.000000       0.0               0.0   \n",
       "2                             0.000000                               \n",
       "3                             0.486745  0.409481          0.434909   \n",
       "4                             0.493455                               \n",
       "5                             0.595272  0.480133          0.436971   \n",
       "6                             0.596493                               \n",
       "7                             0.436481  0.479844          0.417797   \n",
       "8                             0.359852                               \n",
       "9                             0.294703                               \n",
       "10                            0.520891  0.399033          0.398932   \n",
       "\n",
       "                 Intra-Cluster Density                              \n",
       "Distance Measure                Cosine Manhattan Squared Euclidean  \n",
       "k                                                                   \n",
       "1                             0.660307  0.660307          0.660307  \n",
       "2                             0.609021                              \n",
       "3                             0.635719  0.656678          0.565419  \n",
       "4                             0.591643                              \n",
       "5                             0.585504  0.525753          0.569376  \n",
       "6                             0.557472                              \n",
       "7                             0.569629  0.602641           0.51425  \n",
       "8                             0.547501                              \n",
       "9                             0.537005                              \n",
       "10                            0.529834  0.584379           0.65725  "
      ]
     },
     "execution_count": 37,
     "metadata": {},
     "output_type": "execute_result"
    }
   ],
   "source": [
    "import pandas as pd\n",
    "import numpy as np\n",
    "\n",
    "# Data for the distance measures\n",
    "data = {\n",
    "    'k': [1, 3, 5, 7, 10] + [1, 3, 5, 7, 10] + [1, 2, 3, 4, 5, 6, 7, 8, 9, 10],\n",
    "    'Distance Measure': ['Squared Euclidean'] * 5 + ['Manhattan'] * 5 + ['Cosine'] * 10,\n",
    "    'Inter-Cluster Density': [np.nan, 0.4349088337247659, 0.43697089107424475, 0.4177968555166761, 0.3989316506179806,\n",
    "                              np.nan, 0.409480527330526, 0.48013343187985164, 0.47984379417391576, 0.3990329948984028,\n",
    "                              np.nan, np.nan, 0.4867451222238232, 0.4934554149849282, 0.5952716202091901, 0.5964930640984843,\n",
    "                              0.4364813198604249, 0.35985184446654656, 0.2947027856108523, 0.5208913016563401],\n",
    "    'Intra-Cluster Density': [0.6603071501779987, 0.5654190860115158, 0.5693756016100209, 0.514249636581122, 0.6572495524032275,\n",
    "                              0.6603071501779987, 0.6566780620584004, 0.5257533230286466, 0.602641375733723, 0.5843788907180333,\n",
    "                              0.6603071501779987, 0.609020994020959, 0.6357191058366416, 0.5916430954776636, 0.5855042816995901,\n",
    "                              0.5574720188824531, 0.5696287464515573, 0.5475008532800699, 0.5370047583442, 0.5298341640294627]\n",
    "}\n",
    "\n",
    "# Creating DataFrame\n",
    "df = pd.DataFrame(data)\n",
    "\n",
    "# Pivoting the DataFrame to have distance measures as columns and k values as rows\n",
    "table = pd.pivot_table(df, values=['Inter-Cluster Density', 'Intra-Cluster Density'], index='k',\n",
    "                       columns=['Distance Measure'], aggfunc=np.sum)\n",
    "\n",
    "# Filling NaN values with ''\n",
    "table = table.fillna('')\n",
    "table\n"
   ]
  },
  {
   "cell_type": "markdown",
   "id": "49ed9803",
   "metadata": {},
   "source": [
    "### 2.6 Calculating Average Distance to the Centroid and Making Elbow Graphs"
   ]
  },
  {
   "cell_type": "markdown",
   "id": "398f516d",
   "metadata": {},
   "source": [
    "#### 2.6.1 Calculation"
   ]
  },
  {
   "cell_type": "markdown",
   "id": "d65c436a",
   "metadata": {},
   "source": [
    "Both the cluster data and the centroids' positions are typically required to calculate the average distance to the centroid accurately. We need to find the coordinates of the centroids from the data files and calculate the distance to their assigned centroid. First, let's access the file that will provide us with these parameters via HDFS.\n",
    "\n",
    "Since we will apply the same process for all K values from one to ten, I will explain how to access the file containing the necessary parameters for the first three different K values as an example:\n",
    "\n",
    "#### K=1\n",
    "\n",
    "We will use the mahout seqdumper command to read Hadoop SequenceFiles, then we will create an output of the same document in txt format.\n",
    "We will access the 'clustredPoints' file in each cluster created using cosine distance measure. Then, we will read the 'part-m-00000' document in this file with the 'seqdumper' command and save it as  'clusters-dump-k1-cosine.txt'.\n",
    "\n",
    "* mahout seqdumper -i docs-kmeans-clusters-k1/clusteredPoints/part-m-00000 -o clusters-dump-k1-cosine.txt\n",
    "\n",
    "After this step, we download the txt from DSM1 to our local system. We will upload this txt file to the Jupyter Notebook as a dataset for coding to calculate average distance:\n",
    "\n",
    "\n",
    "#### K=2\n",
    "\n",
    "* mahout seqdumper -i docs-kmeans-clusters-k2/clusteredPoints/part-m-00000 -o clusters-dump-k2-cosine.txt\n",
    "\n",
    "#### K=3\n",
    "\n",
    "* mahout seqdumper -i docs-kmeans-clusters-k3/clusteredPoints/part-m-00000 -o clusters-dump-k3-cosine.txt\n"
   ]
  },
  {
   "cell_type": "code",
   "execution_count": 31,
   "id": "82830d19",
   "metadata": {
    "scrolled": true
   },
   "outputs": [
    {
     "name": "stdout",
     "output_type": "stream",
     "text": [
      "Average distance to centroid for K=1: 0.4718422868578967\n",
      "Average distance to centroid for K=2: 0.4438590266696518\n",
      "Average distance to centroid for K=3: 0.4243936629462605\n",
      "Average distance to centroid for K=4: 0.3798356860910371\n",
      "Average distance to centroid for K=5: 0.3775271934633072\n",
      "Average distance to centroid for K=6: 0.4244388923243989\n",
      "Average distance to centroid for K=7: 0.3065400578768741\n",
      "Average distance to centroid for K=8: 0.29033712135149736\n",
      "Average distance to centroid for K=9: 0.4797763009155531\n",
      "Average distance to centroid for K=10: 0.252618786628607\n"
     ]
    }
   ],
   "source": [
    "import re\n",
    "\n",
    "# Defining a function to calculate the average distance to centroid\n",
    "def calculate_average_distance(cluster_content):\n",
    "    distance_pattern = re.compile(r'distance: ([\\d\\.]+)')\n",
    "    distances = [float(match) for match in distance_pattern.findall(cluster_content)]\n",
    "    return sum(distances) / len(distances) if distances else None\n",
    "\n",
    "# Placeholder for average distances\n",
    "average_distances = {}\n",
    "\n",
    "# Looping over k values\n",
    "for k in range(1, 11):\n",
    "    file_path = f'clusters-dump-k{k}-cosine.txt'\n",
    "    with open(file_path, 'r') as file:\n",
    "        content = file.read()\n",
    "    average_distances[k] = calculate_average_distance(content)\n",
    "\n",
    "# Printing the average distances for each k\n",
    "for k, avg_dist in average_distances.items():\n",
    "    print(f'Average distance to centroid for K={k}: {avg_dist}')\n"
   ]
  },
  {
   "cell_type": "markdown",
   "id": "d166e170",
   "metadata": {},
   "source": [
    "#### 2.6.2 Elbow Graphs"
   ]
  },
  {
   "cell_type": "code",
   "execution_count": 20,
   "id": "34845a01",
   "metadata": {
    "scrolled": false
   },
   "outputs": [
    {
     "data": {
      "image/png": "[encoded data removed]",
      "text/plain": [
       "<Figure size 1000x600 with 1 Axes>"
      ]
     },
     "metadata": {},
     "output_type": "display_data"
    }
   ],
   "source": [
    "import matplotlib.pyplot as plt\n",
    "import numpy as np\n",
    "from scipy.interpolate import make_interp_spline\n",
    "\n",
    "# Values for k and average distances\n",
    "k_values = np.array([1, 2, 3, 4, 5, 6, 7, 8, 9, 10])\n",
    "average_distances = np.array([0.4718422868578967, 0.4438590266696518, 0.4243936629462605, 0.3798356860910371,\n",
    "                              0.3775271934633072, 0.4244388923243989, 0.3065400578768741, 0.29033712135149736,\n",
    "                              0.4797763009155531, 0.252618786628607])\n",
    "\n",
    "# Generating values for a smooth curve\n",
    "k_values_smooth = np.linspace(k_values.min(), k_values.max(), 300)\n",
    "spl = make_interp_spline(k_values, average_distances, k=2)\n",
    "smooth_distances = spl(k_values_smooth)\n",
    "\n",
    "# Plotting\n",
    "plt.figure(figsize=(10, 6))\n",
    "plt.plot(k_values, average_distances, 'o-', label='Actual')\n",
    "plt.plot(k_values_smooth, smooth_distances, 'r--', label='Smooth Curve') \n",
    "plt.title('Elbow Method for K-means Clustering (Cosine)')\n",
    "plt.xlabel('Number of Clusters (K)')\n",
    "plt.ylabel('Average Distance to Centroid')\n",
    "plt.legend()\n",
    "plt.grid(True)\n",
    "plt.xticks(range(1, 11))  # X-ticks for each integer value of K\n",
    "plt.show()\n"
   ]
  },
  {
   "cell_type": "markdown",
   "id": "fa13f214",
   "metadata": {},
   "source": [
    "The graph depicts the Elbow Method for K-means clustering using the Cosine measure. The 'elbow' is where the rate of decrease sharply changes, indicating the optimal number of clusters, K. The actual data points show fluctuations, but the smooth curve, which is a general trend line, provides a clearer view of the elbow.\n",
    "\n",
    "From the smooth curve, we can observe that the average distance to the centroid significantly drops from K=1 to K=2, continues to decrease at a slower rate up to K=4, slightly increases at K=5, and then decreases again up to K=7. At K=8, there is a notable increase, followed by a sharp drop at K=9, reaching the lowest point at K=10.\n",
    "\n",
    "The optimal K is typically where the elbow is most pronounced — the point after which diminishing returns are observed. This is typically where the graph starts to level off. In this graph, the elbow seems to appear around K=5 or K=7. However, due to the unusual increase at K=8, it might suggest that K=7 is a local optimum, and the true 'elbow' could be at K=10, given that K=10 has the lowest average distance to the centroid, indicating tight clustering.\n",
    "\n",
    "Thus, both K=7 and K=10 could be considered optimal depending on the specific context and requirements of the clustering. K=7 for a balance between cluster tightness and a manageable number of clusters, or K=10 for the tightest clustering as per the provided data. The final selection should also consider the practical application and interpretability of the clusters in the context of the data being analyzed."
   ]
  },
  {
   "cell_type": "code",
   "execution_count": 25,
   "id": "fa2cd428",
   "metadata": {},
   "outputs": [
    {
     "data": {
      "image/png": "[encoded data removed]",
      "text/plain": [
       "<Figure size 1000x600 with 1 Axes>"
      ]
     },
     "metadata": {},
     "output_type": "display_data"
    }
   ],
   "source": [
    "# Since the inter-cluster density values for k=1 and k=2 are NaN, we create the graph without including these values.\n",
    "\n",
    "k_values = np.array([3, 4, 5, 6, 7, 8, 9, 10])\n",
    "inter_cluster_density= np.array([0.4867451222238232, 0.4934554149849282, 0.5952716202091901, 0.5964930640984843,\n",
    "                              0.4364813198604249, 0.35985184446654656, 0.2947027856108523, 0.5208913016563401,\n",
    "                              ])\n",
    "\n",
    "\n",
    "k_values_smooth = np.linspace(k_values.min(), k_values.max(), 300)\n",
    "spl = make_interp_spline(k_values, inter_cluster_density, k=2)\n",
    "smooth_density = spl(k_values_smooth)\n",
    "\n",
    "\n",
    "plt.figure(figsize=(10, 6))\n",
    "plt.plot(k_values, inter_cluster_density, 'o-', label='Actual')\n",
    "plt.plot(k_values_smooth, smooth_density, 'r--', label='Smooth Curve') \n",
    "plt.title('Elbow Method for Inter-Cluster Density (Cosine)')\n",
    "plt.xlabel('Number of Clusters (K)')\n",
    "plt.ylabel('Inter-Cluster Density')\n",
    "plt.legend()\n",
    "plt.grid(True)\n",
    "plt.xticks(range(1, 11)) \n",
    "plt.show()\n"
   ]
  },
  {
   "cell_type": "code",
   "execution_count": 23,
   "id": "b80e7481",
   "metadata": {
    "scrolled": false
   },
   "outputs": [
    {
     "data": {
      "image/png": "[encoded data removed]",
      "text/plain": [
       "<Figure size 1000x600 with 1 Axes>"
      ]
     },
     "metadata": {},
     "output_type": "display_data"
    }
   ],
   "source": [
    "k_values = np.array([1, 2, 3, 4, 5, 6, 7, 8, 9, 10])\n",
    "intra_cluster_density= np.array([0.6603071501779987, 0.609020994020959, 0.6357191058366416, 0.5916430954776636,\n",
    "                               0.5855042816995901, 0.5574720188824531, 0.5696287464515573, 0.5475008532800699,\n",
    "                               0.5370047583442, 0.5298341640294627])\n",
    "\n",
    "\n",
    "k_values_smooth = np.linspace(k_values.min(), k_values.max(), 300)\n",
    "spl = make_interp_spline(k_values, intra_cluster_density, k=2)\n",
    "smooth_density = spl(k_values_smooth)\n",
    "\n",
    "\n",
    "plt.figure(figsize=(10, 6))\n",
    "plt.plot(k_values, intra_cluster_density, 'o-', label='Actual')\n",
    "plt.plot(k_values_smooth, smooth_density, 'r--', label='Smooth Curve') \n",
    "plt.title('Elbow Method for Intra-Cluster Density (Cosine)')\n",
    "plt.xlabel('Number of Clusters (K)')\n",
    "plt.ylabel('Intra-Cluster Density')\n",
    "plt.legend()\n",
    "plt.grid(True)\n",
    "plt.xticks(range(1, 11))\n",
    "plt.show()\n"
   ]
  },
  {
   "cell_type": "markdown",
   "id": "1b558d65",
   "metadata": {},
   "source": [
    "The Elbow Method graph for Inter-Cluster Density shows a peak at k=5, indicating that up to this point, each additional cluster significantly contributes to separating different clusters. After k=5, the density starts to drop, suggesting a decrease in the distinction between clusters. The Intra-Cluster Density graph, however, dips at k=5 and then peaks again at k=7, suggesting that the clusters are most compact at k=7. The Average Distance to Centroid graph sharply falls after k=7, suggesting that the clusters become less distinct from each other as k increases.\n",
    "\n",
    "Considering all these graphs, the optimal k value is not straightforward. While k=5 is indicated as optimal by the Inter-Cluster Density, the Intra-Cluster Density suggests k=7 might be better due to tighter clusters. However, since the Average Distance to Centroid increases significantly after k=7, this indicates that the clusters are very distinct at k=7. The optimal k value, therefore, would depend on whether the goal is to maximize the difference between clusters (k=5) or within-cluster compactness (k=7). If both are equally important, k=6 might represent a balance between the two, albeit not the best for either measure. The specific context of the clustering exercise should guide the final decision."
   ]
  },
  {
   "cell_type": "markdown",
   "id": "9b29fa9f",
   "metadata": {},
   "source": [
    "### 2.7 Differencies between Squared Euclidean, Manhattan and Cosine Distance Measures"
   ]
  },
  {
   "cell_type": "markdown",
   "id": "693b2df8",
   "metadata": {},
   "source": [
    "The best distance measurement for a dataset with text such as novels depends on the data characteristics and the application of the distance calculations. Cosine distance is often preferred for high-dimensional text data since it measures the angular difference between vectors, which is useful for capturing the similarity of documents without being affected by their length. Squared Euclidean distance emphasizes larger differences and may not scale well with text data. Manhattan distance measures the absolute differences and might be robust to outliers but is less common for text analysis. Ultimately, cosine distance is likely the most suitable for text datasets.\n",
    "\n",
    "Therefore, in this project, it is necessary to examine the cosine distance measure data more carefully and more deeply. Making our analyzes based on cosine distance measure will give us more accurate results."
   ]
  },
  {
   "cell_type": "markdown",
   "id": "bf03ff04",
   "metadata": {},
   "source": [
    "## 3. References\n",
    "\n",
    "White T (2015) Hadoop: The definitive guide. O’Reilly, Beijing\n",
    "\n",
    "Filho, D.S.M.P., de Macedo, D. & Dutra, M.L. Technological Surveillance in Big Data Environments by using a MapReduce-based Method. Mobile Netw Appl 27, 1931–1940 (2022). https://doi.org/10.1007/s11036-022-01962-2\n",
    "\n",
    "Dean J, Ghemawat S (2008) MapReduce: Simplified data processing on large clusters. Commun ACM 51(1):107–113\n",
    "\n",
    "Duque Barrachina, A., & O’Driscoll, A. (2014). A big data methodology for categorising technical support requests using Hadoop and Mahout. In Journal Of Big Data (Vol. 1, Issue 1). Springer Science and Business Media LLC. https://doi.org/10.1186/2196-1115-1-1\n",
    "\n",
    "Sumathi, S., & Gunaseelan, H. G. (2022). A Review of Data and Document Clustering pertaining to various Distance Measures. In Salud, Ciencia y Tecnología (Vol. 2, Issue S2, p. 194). Salud, Ciencia y Tecnologia. https://doi.org/10.56294/saludcyt2022194\n",
    "\n",
    "Sahu, L., & Mohan, B. R. (2014). An improved K-means algorithm using modified cosine distance measure for document clustering using Mahout with Hadoop. In 2014 9th International Conference on Industrial and Information Systems (ICIIS). 2014 9th International Conference on Industrial and Information Systems (ICIIS). IEEE. https://doi.org/10.1109/iciinfs.2014.7036661"
   ]
  }
 ],
 "metadata": {
  "kernelspec": {
   "display_name": "Python 3 (ipykernel)",
   "language": "python",
   "name": "python3"
  },
  "language_info": {
   "codemirror_mode": {
    "name": "ipython",
    "version": 3
   },
   "file_extension": ".py",
   "mimetype": "text/x-python",
   "name": "python",
   "nbconvert_exporter": "python",
   "pygments_lexer": "ipython3",
   "version": "3.11.5"
  }
 },
 "nbformat": 4,
 "nbformat_minor": 5
}
